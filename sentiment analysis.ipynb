{
 "cells": [
  {
   "cell_type": "code",
   "execution_count": null,
   "id": "7a33a665",
   "metadata": {},
   "outputs": [],
   "source": [
    "import pandas as pd\n",
    "import nltk\n",
    "import re\n",
    "from nltk.corpus import stopwords\n",
    "from nltk.stem.porter import PorterStemmer\n",
    "from sklearn.feature_extraction.text import CountVectorizer\n",
    "from sklearn.model_selection import train_test_split\n",
    "from sklearn.naive_bayes import MultinomialNB\n",
    "import joblib\n"
   ]
  },
  {
   "cell_type": "code",
   "execution_count": null,
   "id": "f0ece83d",
   "metadata": {},
   "outputs": [],
   "source": [
    "# Load the dataset\n",
    "data= pd.read_csv(\"BA - Assignment Part 2 data set.csv\")\n",
    "\n",
    "# Drop rows with missing values in 'Review Text' column\n",
    "data.dropna(subset=['Review Text'], inplace=True)"
   ]
  },
  {
   "cell_type": "code",
   "execution_count": null,
   "id": "7ea5c7e8",
   "metadata": {},
   "outputs": [],
   "source": [
    "data.head()"
   ]
  },
  {
   "cell_type": "code",
   "execution_count": null,
   "id": "c294124e",
   "metadata": {},
   "outputs": [],
   "source": [
    "data.describe()"
   ]
  },
  {
   "cell_type": "code",
   "execution_count": null,
   "id": "b599081c",
   "metadata": {},
   "outputs": [],
   "source": [
    "corpus = []\n",
    "\n",
    "# Reset index to ensure consecutive integer index values\n",
    "data.reset_index(drop=True, inplace=True)\n",
    "\n",
    "# Looping through the rows of the DataFrame\n",
    "for i in range(len(data)):\n",
    "    # Removing the special character from the reviews and replacing it with space character\n",
    "    review = re.sub(pattern='[^a-zA-Z]', repl=' ', string=data['Review Text'][i])\n",
    "\n",
    "    # Converting the review into lower case characters\n",
    "    review = review.lower()\n",
    "\n",
    "    # Tokenizing the review by words\n",
    "    review_words = review.split()\n",
    "\n",
    "    # Removing the stop words using nltk stopwords\n",
    "    review_words = [word for word in review_words if not word in set(stopwords.words('english'))]\n",
    "\n",
    "    # Stemming the words\n",
    "    ps = PorterStemmer()\n",
    "    review = [ps.stem(word) for word in review_words]\n",
    "\n",
    "    # Joining the stemmed words\n",
    "    review = ' '.join(review)\n",
    "\n",
    "    # Creating a corpus\n",
    "    corpus.append(review)\n",
    "\n"
   ]
  },
  {
   "cell_type": "code",
   "execution_count": null,
   "id": "6c9713b0",
   "metadata": {},
   "outputs": [],
   "source": [
    "from nltk.stem import PorterStemmer\n",
    "\n",
    "# Stemming the words\n",
    "ps = PorterStemmer()\n",
    "review = [ps.stem(word) for word in review_words]\n",
    "\n",
    "# Joining the stemmed words\n",
    "review = ' '.join(review)\n",
    "\n",
    "# Creating a corpus\n",
    "corpus.append(review)\n"
   ]
  },
  {
   "cell_type": "code",
   "execution_count": null,
   "id": "c73cb7b7",
   "metadata": {},
   "outputs": [],
   "source": [
    "corpus"
   ]
  },
  {
   "cell_type": "code",
   "execution_count": null,
   "id": "07ebfb31",
   "metadata": {},
   "outputs": [],
   "source": [
    "corpus[0]"
   ]
  },
  {
   "cell_type": "code",
   "execution_count": null,
   "id": "a3ec92c7",
   "metadata": {},
   "outputs": [],
   "source": [
    "# Creating Bag of Words model\n",
    "cv = CountVectorizer(max_features=1500)\n",
    "X = cv.fit_transform(corpus).toarray()\n",
    "y = data['Review Text'].values"
   ]
  },
  {
   "cell_type": "code",
   "execution_count": null,
   "id": "e6f90a88",
   "metadata": {},
   "outputs": [],
   "source": [
    "# Creating a pickle file for the CountVectorizer model\n",
    "\n",
    "joblib.dump(cv, \"cv.pkl\")\n"
   ]
  },
  {
   "cell_type": "code",
   "execution_count": null,
   "id": "70fc1e29",
   "metadata": {},
   "outputs": [],
   "source": [
    "# Model Building\n",
    "X_train, X_test, y_train, y_test = train_test_split(\n",
    "    X, y, test_size=0.20, random_state=0)\n"
   ]
  },
  {
   "cell_type": "code",
   "execution_count": null,
   "id": "bcdbb6c2",
   "metadata": {},
   "outputs": [],
   "source": [
    "# Drop the last row from X to match the number of samples in y\n",
    "X = X[:-1]\n"
   ]
  },
  {
   "cell_type": "code",
   "execution_count": null,
   "id": "71ba74b4",
   "metadata": {},
   "outputs": [],
   "source": [
    "# Fitting Naive Bayes to the Training set\n",
    "classifier = MultinomialNB(alpha=0.2)\n",
    "classifier.fit(X_train, y_train)"
   ]
  },
  {
   "cell_type": "code",
   "execution_count": null,
   "id": "ba49e203",
   "metadata": {},
   "outputs": [],
   "source": [
    "# Creating a pickle file for the Multinomial Naive Bayes model\n",
    "joblib.dump(classifier, \"model.pkl\")"
   ]
  },
  {
   "cell_type": "code",
   "execution_count": null,
   "id": "e69c3b05",
   "metadata": {},
   "outputs": [],
   "source": []
  }
 ],
 "metadata": {
  "kernelspec": {
   "display_name": "Python 3 (ipykernel)",
   "language": "python",
   "name": "python3"
  },
  "language_info": {
   "codemirror_mode": {
    "name": "ipython",
    "version": 3
   },
   "file_extension": ".py",
   "mimetype": "text/x-python",
   "name": "python",
   "nbconvert_exporter": "python",
   "pygments_lexer": "ipython3",
   "version": "3.9.13"
  }
 },
 "nbformat": 4,
 "nbformat_minor": 5
}
